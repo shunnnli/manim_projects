{
 "cells": [
  {
   "cell_type": "code",
   "execution_count": 2,
   "metadata": {},
   "outputs": [],
   "source": [
    "from scipy.io import loadmat\n",
    "import numpy as np"
   ]
  },
  {
   "cell_type": "code",
   "execution_count": 225,
   "metadata": {},
   "outputs": [],
   "source": [
    "def getDAtrend(DAtrend, t1, t2, data_type='smoothed'):\n",
    "    \"\"\"\n",
    "    Python version of MATLAB getDAtrend.\n",
    "    \n",
    "    Parameters:\n",
    "        DAtrend: loaded MATLAB struct (as a list or array of objects)\n",
    "        t1, t2: trial window indices (integers)\n",
    "        dataType: 'raw' or 'smooth' (default: 'raw')\n",
    "    Returns:\n",
    "        stats: double array of size (numAnimals, 1)\n",
    "    \"\"\"\n",
    "\n",
    "    # Determine dataType field\n",
    "    if 'smooth' in data_type:\n",
    "        key = 'slopeMap_smoothed'\n",
    "    else:\n",
    "        key = 'slopeMap_raw'\n",
    "\n",
    "    stats = np.full(len(DAtrend), np.nan)\n",
    "\n",
    "    for a in range(len(DAtrend)):\n",
    "        try:\n",
    "            field_data = DAtrend[a][key]\n",
    "            if t1 <= 0: t1_final = field_data.shape[0] + t1\n",
    "            else: t1_final = t1\n",
    "            if t2 <= 0: t2_final = field_data.shape[1] + t2\n",
    "            else: t2_final = t2\n",
    "\n",
    "            if (t1_final > field_data.shape[0] or t2_final > field_data.shape[1]\n",
    "                or t1_final <= 0 or t2_final <= 0 or t1 > t2_final):\n",
    "                stats[a] = np.nan\n",
    "            else:\n",
    "                stats[a] = field_data[t1_final-1, t2_final-1]  # MATLAB is 1-based, Python is 0-based\n",
    "        except Exception as e:\n",
    "            print(f\"Error accessing data for animal {a},: {e}\")\n",
    "            stats[a] = np.nan\n",
    "\n",
    "    return stats\n",
    "\n",
    "\n",
    "def getDAvsEImap(DAvsEImap, key='smoothed', direction='reverse', nTrials=50):\n",
    "    \"\"\" \n",
    "    Parameters:\n",
    "        DAvsEImap: loaded MATLAB struct (as a list or array of objects)\n",
    "        key: 'smoothed' or 'raw' (default: 'smoothed')\n",
    "    Returns:\n",
    "        stats: double array of size (numAnimals, 1)\n",
    "    \"\"\"\n",
    "\n",
    "    map_data = DAvsEImap[key][0]\n",
    "    nTrials = map_data.shape[0] // 2\n",
    "\n",
    "    if direction == 'reverse':\n",
    "        late_ticks = -np.flip(np.arange(1, nTrials + 1))  # flip(1:nTrials)\n",
    "        late_idx = map_data.shape[0] + late_ticks\n",
    "\n",
    "    sub_map = map_data[np.ix_(late_idx, late_idx)]\n",
    "    return sub_map\n",
    "\n",
    "def remove_nan_values(DA, EI):\n",
    "    \"\"\"\n",
    "    Remove NaN values from x_vals and y_vals.\n",
    "    Returns cleaned x_vals and y_vals.\n",
    "    \"\"\"\n",
    "    # Convert to NumPy arrays\n",
    "    DA = np.asarray(DA).flatten()\n",
    "    EI = np.asarray(EI).flatten()\n",
    "\n",
    "    # Remove NaNs\n",
    "    valid = ~np.isnan(DA) & ~np.isnan(EI)\n",
    "    DA_clean = DA[valid]\n",
    "    EI_clean = EI[valid]\n",
    "\n",
    "    return DA_clean, EI_clean"
   ]
  },
  {
   "cell_type": "code",
   "execution_count": 228,
   "metadata": {},
   "outputs": [],
   "source": [
    "DAtrend = loadmat('/Users/shunli/Desktop/manim_projects/DAtrend_manim.mat')\n",
    "DAtrend = DAtrend['DAtrend_manim'].flatten()\n",
    "\n",
    "DAvsEImap = loadmat('/Users/shunli/Desktop/manim_projects/DAvsEImap_manim.mat')\n",
    "DAvsEImap = DAvsEImap['DAvsEImap_manim'].flatten()\n",
    "true_map = getDAvsEImap(DAvsEImap,key='smoothed',nTrials=50)\n",
    "\n",
    "animalEI_mat = loadmat('/Users/shunli/Desktop/manim_projects/animalEIpeaks.mat')\n",
    "animalEI = animalEI_mat['animalEIindex_peaks']"
   ]
  },
  {
   "cell_type": "code",
   "execution_count": 229,
   "metadata": {},
   "outputs": [
    {
     "name": "stdout",
     "output_type": "stream",
     "text": [
      "Cleaned DA: [-0.0895962  -0.01293639  0.00716079 -0.00413119 -0.03489123  0.0210576\n",
      " -0.08637815 -0.08766801  0.06588019 -0.01109956 -0.02133382  0.01208358\n",
      " -0.01340857 -0.01819567 -0.01429446  0.02872162  0.01213604  0.02215556\n",
      " -0.00906644  0.00611441  0.06259907  0.02441325 -0.00559765  0.05251934\n",
      "  0.00849867 -0.03202014 -0.06645395  0.03945756]\n",
      "Cleaned EI: [ 0.09239674  0.03965995 -0.42226602 -0.08940776 -0.18445254  0.25400178\n",
      " -0.22965684 -0.56444827  0.78973906 -0.00993123 -0.27625927 -0.74943796\n",
      " -0.72454838 -0.20890144 -0.12799995 -0.0646866  -0.2379009  -0.37428537\n",
      " -0.01373143  0.05648903  0.46759495  0.16417774  0.03385522  0.25977921\n",
      "  0.33743203  0.45291995 -0.02182647  0.31510599]\n",
      "Slope: 3.5831176468657593, Intercept: -0.018558535905992112\n",
      "-0.4933087306273851\n"
     ]
    }
   ],
   "source": [
    "i, j = 22, 48\n",
    "\n",
    "stats = getDAtrend(DAtrend, t1=i-50, t2=j-50, data_type='smooth')\n",
    "\n",
    "DA_clean, EI_clean = remove_nan_values(stats, animalEI)\n",
    "print(f\"Cleaned DA: {DA_clean}\")\n",
    "print(f\"Cleaned EI: {EI_clean}\")\n",
    "\n",
    "# Fit stats vs animalEI\n",
    "slope, intercept = np.polyfit(DA_clean, EI_clean, 1)\n",
    "print(f\"Slope: {slope}, Intercept: {intercept}\")\n",
    "\n",
    "print(true_map[i,j])"
   ]
  },
  {
   "cell_type": "code",
   "execution_count": 233,
   "metadata": {},
   "outputs": [
    {
     "data": {
      "text/plain": [
       "np.float64(3.5831176468657566)"
      ]
     },
     "execution_count": 233,
     "metadata": {},
     "output_type": "execute_result"
    }
   ],
   "source": [
    "true_map[i-50-1,j-50-1]"
   ]
  }
 ],
 "metadata": {
  "kernelspec": {
   "display_name": "manim",
   "language": "python",
   "name": "python3"
  },
  "language_info": {
   "codemirror_mode": {
    "name": "ipython",
    "version": 3
   },
   "file_extension": ".py",
   "mimetype": "text/x-python",
   "name": "python",
   "nbconvert_exporter": "python",
   "pygments_lexer": "ipython3",
   "version": "3.10.16"
  }
 },
 "nbformat": 4,
 "nbformat_minor": 2
}
