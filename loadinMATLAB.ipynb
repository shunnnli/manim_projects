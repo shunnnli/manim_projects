{
 "cells": [
  {
   "cell_type": "code",
   "execution_count": 2,
   "metadata": {},
   "outputs": [],
   "source": [
    "from scipy.io import loadmat\n",
    "import numpy as np"
   ]
  },
  {
   "cell_type": "code",
   "execution_count": 188,
   "metadata": {},
   "outputs": [],
   "source": [
    "def getDAtrend(DAtrend, t1, t2, data_type='smoothed'):\n",
    "    \"\"\"\n",
    "    Python version of MATLAB getDAtrend.\n",
    "    \n",
    "    Parameters:\n",
    "        DAtrend: loaded MATLAB struct (as a list or array of objects)\n",
    "        t1, t2: trial window indices (integers)\n",
    "        dataType: 'raw' or 'smooth' (default: 'raw')\n",
    "    Returns:\n",
    "        stats: double array of size (numAnimals, 1)\n",
    "    \"\"\"\n",
    "\n",
    "    # Determine dataType field\n",
    "    if 'smooth' in data_type:\n",
    "        key = 'slopeMap_smoothed'\n",
    "    else:\n",
    "        key = 'slopeMap_raw'\n",
    "\n",
    "    stats = np.full(len(DAtrend), np.nan)\n",
    "\n",
    "    for a in range(len(DAtrend)):\n",
    "        try:\n",
    "            field_data = DAtrend[a][key]\n",
    "            if t1 <= 0: t1_final = field_data.shape[0] + t1\n",
    "            else: t1_final = t1\n",
    "            if t2 <= 0: t2_final = field_data.shape[1] + t2\n",
    "            else: t2_final = t2\n",
    "\n",
    "            if (t1_final > field_data.shape[0] or t2_final > field_data.shape[1]\n",
    "                or t1_final <= 0 or t2_final <= 0 or t1 > t2_final):\n",
    "                stats[a] = np.nan\n",
    "            else:\n",
    "                stats[a] = field_data[t1_final-1, t2_final-1]  # MATLAB is 1-based, Python is 0-based\n",
    "        except Exception as e:\n",
    "            print(f\"Error accessing data for animal {a},: {e}\")\n",
    "            stats[a] = np.nan\n",
    "\n",
    "    return stats\n",
    "\n",
    "\n",
    "def getDAvsEImap(DAvsEImap, key='smoothed', direction='reverse', nTrials=50):\n",
    "    \"\"\" \n",
    "    Parameters:\n",
    "        DAvsEImap: loaded MATLAB struct (as a list or array of objects)\n",
    "        key: 'smoothed' or 'raw' (default: 'smoothed')\n",
    "    Returns:\n",
    "        stats: double array of size (numAnimals, 1)\n",
    "    \"\"\"\n",
    "\n",
    "    map_data = DAvsEImap[key][0]\n",
    "    nTrials = map_data.shape[0] // 2\n",
    "\n",
    "    if direction == 'reverse':\n",
    "        late_ticks = -np.flip(np.arange(1, nTrials + 1))  # flip(1:nTrials)\n",
    "        late_idx = map_data.shape[0] + late_ticks\n",
    "\n",
    "    sub_map = map_data[np.ix_(late_idx, late_idx)]\n",
    "    rotated_map = np.rot90(sub_map, k=-1)"
   ]
  },
  {
   "cell_type": "code",
   "execution_count": 100,
   "metadata": {},
   "outputs": [],
   "source": [
    "DAtrend = loadmat('/Users/shunli/Desktop/manim_projects/DAtrend_manim.mat')\n",
    "DAtrend = DAtrend['DAtrend_manim'].flatten()"
   ]
  },
  {
   "cell_type": "code",
   "execution_count": 191,
   "metadata": {},
   "outputs": [
    {
     "data": {
      "text/plain": [
       "array([        nan, -0.03716697,  0.23243363, -0.15672018, -0.17411836,\n",
       "       -0.04764319, -0.1335437 , -0.20848667,  0.08482569, -0.06749392,\n",
       "        0.01627971,  0.0905859 , -0.19026525,  0.00990848,  0.07180059,\n",
       "       -0.06522659, -0.01709673, -0.01495578,  0.12400629,  0.13673453,\n",
       "        0.11997311,  0.26527528,  0.13452264, -0.01911747, -0.34563817,\n",
       "        0.05340152, -0.25898138,         nan,         nan,         nan])"
      ]
     },
     "execution_count": 191,
     "metadata": {},
     "output_type": "execute_result"
    }
   ],
   "source": [
    "i, j = 10, 20\n",
    "\n",
    "stats = getDAtrend(DAtrend, t1=i-50, t2=j-50, data_type='smooth')\n",
    "stats"
   ]
  },
  {
   "cell_type": "code",
   "execution_count": 134,
   "metadata": {},
   "outputs": [
    {
     "data": {
      "text/plain": [
       "(140, 140)"
      ]
     },
     "execution_count": 134,
     "metadata": {},
     "output_type": "execute_result"
    }
   ],
   "source": [
    "DAvsEImap = loadmat('/Users/shunli/Desktop/manim_projects/DAvsEImap_manim.mat')\n",
    "DAvsEImap = DAvsEImap['DAvsEImap_manim'].flatten()\n",
    "DAvsEImap['smoothed'][0].shape"
   ]
  },
  {
   "cell_type": "code",
   "execution_count": 161,
   "metadata": {},
   "outputs": [
    {
     "data": {
      "text/plain": [
       "array([ 90,  91,  92,  93,  94,  95,  96,  97,  98,  99, 100, 101, 102,\n",
       "       103, 104, 105, 106, 107, 108, 109, 110, 111, 112, 113, 114, 115,\n",
       "       116, 117, 118, 119, 120, 121, 122, 123, 124, 125, 126, 127, 128,\n",
       "       129, 130, 131, 132, 133, 134, 135, 136, 137, 138, 139])"
      ]
     },
     "execution_count": 161,
     "metadata": {},
     "output_type": "execute_result"
    }
   ],
   "source": [
    "map_data = DAvsEImap['smoothed'][0]\n",
    "\n",
    "nTrials = 50\n",
    "late_ticks = -np.flip(np.arange(1, nTrials + 1))  # flip(1:nTrials)\n",
    "late_idx = map_data.shape[0] + late_ticks     # mimic MATLAB indexing\n",
    "late_idx"
   ]
  },
  {
   "cell_type": "code",
   "execution_count": 162,
   "metadata": {},
   "outputs": [
    {
     "data": {
      "text/plain": [
       "array([[        nan,         nan, -0.37217849, ...,  3.73084528,\n",
       "         4.07629224,  4.51779021],\n",
       "       [        nan,         nan,         nan, ...,  4.37050231,\n",
       "         4.74634133,  5.17044959],\n",
       "       [        nan,         nan,         nan, ...,  3.73877433,\n",
       "         4.00600115,  4.33945838],\n",
       "       ...,\n",
       "       [        nan,         nan,         nan, ...,         nan,\n",
       "                nan,  0.18853457],\n",
       "       [        nan,         nan,         nan, ...,         nan,\n",
       "                nan,         nan],\n",
       "       [        nan,         nan,         nan, ...,         nan,\n",
       "                nan,         nan]], shape=(50, 50))"
      ]
     },
     "execution_count": 162,
     "metadata": {},
     "output_type": "execute_result"
    }
   ],
   "source": [
    "sub_map = map_data[np.ix_(late_idx, late_idx)]\n",
    "sub_map"
   ]
  },
  {
   "cell_type": "code",
   "execution_count": 182,
   "metadata": {},
   "outputs": [],
   "source": [
    "animalEI_mat = loadmat('/Users/shunli/Desktop/manim_projects/animalEIpeaks.mat')\n",
    "animalEI = animalEI_mat['animalEIindex_peaks']"
   ]
  },
  {
   "cell_type": "code",
   "execution_count": 183,
   "metadata": {},
   "outputs": [
    {
     "data": {
      "text/plain": [
       "array([[ 0.09239674],\n",
       "       [ 0.03965995],\n",
       "       [-0.42226602],\n",
       "       [-0.08940776],\n",
       "       [-0.18445254],\n",
       "       [ 0.25400178],\n",
       "       [-0.22965684],\n",
       "       [-0.56444827],\n",
       "       [ 0.78973906],\n",
       "       [-0.00993123],\n",
       "       [-0.27625927],\n",
       "       [-0.74943796],\n",
       "       [-0.72454838],\n",
       "       [-0.20890144],\n",
       "       [-0.12799995],\n",
       "       [-0.0646866 ],\n",
       "       [-0.2379009 ],\n",
       "       [-0.37428537],\n",
       "       [-0.01373143],\n",
       "       [ 0.05648903],\n",
       "       [ 0.46759495],\n",
       "       [ 0.16417774],\n",
       "       [ 0.03385522],\n",
       "       [ 0.25977921],\n",
       "       [ 0.33743203],\n",
       "       [ 0.45291995],\n",
       "       [-0.02182647],\n",
       "       [ 0.31510599],\n",
       "       [ 0.18485642],\n",
       "       [ 0.17420487]])"
      ]
     },
     "execution_count": 183,
     "metadata": {},
     "output_type": "execute_result"
    }
   ],
   "source": [
    "animalEI"
   ]
  }
 ],
 "metadata": {
  "kernelspec": {
   "display_name": "manim",
   "language": "python",
   "name": "python3"
  },
  "language_info": {
   "codemirror_mode": {
    "name": "ipython",
    "version": 3
   },
   "file_extension": ".py",
   "mimetype": "text/x-python",
   "name": "python",
   "nbconvert_exporter": "python",
   "pygments_lexer": "ipython3",
   "version": "3.10.16"
  }
 },
 "nbformat": 4,
 "nbformat_minor": 2
}
